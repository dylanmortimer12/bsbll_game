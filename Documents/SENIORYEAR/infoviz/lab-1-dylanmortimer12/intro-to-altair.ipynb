{
 "cells": [
  {
   "cell_type": "markdown",
   "metadata": {},
   "source": [
    "# Introduction to Altair (and working with Jupyter Notebooks)\n",
    "\n",
    "This is an interactive tutorial to get you used to working with notebooks and to teach you a bit about visualizing data with Altair. \n",
    "\n",
    "Initially, you will be provided with code, and you just need to run the cell (Shift-Enter or see the Run menu for more options). Later, you will need to provide some code of your own."
   ]
  },
  {
   "cell_type": "markdown",
   "metadata": {},
   "source": [
    "---\n",
    "We will start with some standard declarations to import the libraries we need. In addition to the `altair` library, we will be using `numpy` (numerical python) and `pandas` (python data analysis library) to help manage the data before we hand it off to Altair. Nothing will happen when you run the cell, but make sure you run it anyway (otherwise nothing else in the notebook will run).\n",
    "\n",
    "*Incidentally, I am using the `import XYZ as X` abbreviations because they are fairly standard, even if I do think they are the product of lazy typists...*"
   ]
  },
  {
   "cell_type": "code",
   "execution_count": 1,
   "metadata": {},
   "outputs": [],
   "source": [
    "import altair as alt\n",
    "import numpy as np\n",
    "import pandas as pd"
   ]
  },
  {
   "cell_type": "markdown",
   "metadata": {},
   "source": [
    "Next, we'll create some random data using numpy."
   ]
  },
  {
   "cell_type": "code",
   "execution_count": 2,
   "metadata": {},
   "outputs": [
    {
     "name": "stdout",
     "output_type": "stream",
     "text": [
      "x: [10  5 16  4 24 17  1  6 22  7]\n",
      "y: [13 17 15 14  9 22  0 21  0  4]\n"
     ]
    }
   ],
   "source": [
    "x = np.random.randint(0,25,10)\n",
    "y = np.random.randint(0,25,10)\n",
    "\n",
    "print('x:',x)\n",
    "print('y:',y)"
   ]
  },
  {
   "cell_type": "markdown",
   "metadata": {},
   "source": [
    "Altair is designed to work best with Pandas DataFrames in \"tidy\" format, which is the long form that we talked about (every variable is a column, every observation is a row). [Pandas](http://pandas.pydata.org/pandas-docs/stable/) provides a lot of tools for manipulating data. You will pick some of it up as we go along, but I encourage you to consult the documentation when you find yourself needing to make changes to your data.   \n",
    "\n",
    "*Note that putting the variable on its own means that it gets returned like it would be in the normal Python shell.*"
   ]
  },
  {
   "cell_type": "code",
   "execution_count": 3,
   "metadata": {},
   "outputs": [
    {
     "data": {
      "text/html": [
       "<div>\n",
       "<style scoped>\n",
       "    .dataframe tbody tr th:only-of-type {\n",
       "        vertical-align: middle;\n",
       "    }\n",
       "\n",
       "    .dataframe tbody tr th {\n",
       "        vertical-align: top;\n",
       "    }\n",
       "\n",
       "    .dataframe thead th {\n",
       "        text-align: right;\n",
       "    }\n",
       "</style>\n",
       "<table border=\"1\" class=\"dataframe\">\n",
       "  <thead>\n",
       "    <tr style=\"text-align: right;\">\n",
       "      <th></th>\n",
       "      <th>x</th>\n",
       "      <th>y</th>\n",
       "    </tr>\n",
       "  </thead>\n",
       "  <tbody>\n",
       "    <tr>\n",
       "      <th>0</th>\n",
       "      <td>10</td>\n",
       "      <td>13</td>\n",
       "    </tr>\n",
       "    <tr>\n",
       "      <th>1</th>\n",
       "      <td>5</td>\n",
       "      <td>17</td>\n",
       "    </tr>\n",
       "    <tr>\n",
       "      <th>2</th>\n",
       "      <td>16</td>\n",
       "      <td>15</td>\n",
       "    </tr>\n",
       "    <tr>\n",
       "      <th>3</th>\n",
       "      <td>4</td>\n",
       "      <td>14</td>\n",
       "    </tr>\n",
       "    <tr>\n",
       "      <th>4</th>\n",
       "      <td>24</td>\n",
       "      <td>9</td>\n",
       "    </tr>\n",
       "    <tr>\n",
       "      <th>5</th>\n",
       "      <td>17</td>\n",
       "      <td>22</td>\n",
       "    </tr>\n",
       "    <tr>\n",
       "      <th>6</th>\n",
       "      <td>1</td>\n",
       "      <td>0</td>\n",
       "    </tr>\n",
       "    <tr>\n",
       "      <th>7</th>\n",
       "      <td>6</td>\n",
       "      <td>21</td>\n",
       "    </tr>\n",
       "    <tr>\n",
       "      <th>8</th>\n",
       "      <td>22</td>\n",
       "      <td>0</td>\n",
       "    </tr>\n",
       "    <tr>\n",
       "      <th>9</th>\n",
       "      <td>7</td>\n",
       "      <td>4</td>\n",
       "    </tr>\n",
       "  </tbody>\n",
       "</table>\n",
       "</div>"
      ],
      "text/plain": [
       "    x   y\n",
       "0  10  13\n",
       "1   5  17\n",
       "2  16  15\n",
       "3   4  14\n",
       "4  24   9\n",
       "5  17  22\n",
       "6   1   0\n",
       "7   6  21\n",
       "8  22   0\n",
       "9   7   4"
      ]
     },
     "execution_count": 3,
     "metadata": {},
     "output_type": "execute_result"
    }
   ],
   "source": [
    "df = pd.DataFrame({'x':x, 'y':y})\n",
    "df"
   ]
  },
  {
   "cell_type": "markdown",
   "metadata": {},
   "source": [
    "In this instance, we could print the whole DataFrame out, but usually you will want to just use df.head() so you don't get the entire data set. Change the number of random items from 10 to 100, and then use `df.head()` to see just the first five rows. *You can always make changes to cells and re-run them. Just be careful about the downstream cells. The state of the variables is based on execution order, not document order. So if, for example, you had reassigned x below, when you re-ran this cell, it would have the new value.*\n",
    "\n",
    "One thing to note is that the DataFrame has added an extra column, called the `index`, which is basically just the row number in this case. While not imemdiately important, it can be good to know it is there. "
   ]
  },
  {
   "cell_type": "markdown",
   "metadata": {},
   "source": [
    "## Making a visualization\n",
    "---\n",
    "\n",
    "Okay, time to make a visualization. The process is very much like the one we described previously (though backwards): create a chart, set its mark type, and then configure the encodings. We will start by creating our chart and setting the mark to point."
   ]
  },
  {
   "cell_type": "code",
   "execution_count": 4,
   "metadata": {},
   "outputs": [
    {
     "data": {
      "application/vnd.vegalite.v2+json": {
       "$schema": "https://vega.github.io/schema/vega-lite/v2.6.0.json",
       "config": {
        "view": {
         "height": 300,
         "width": 400
        }
       },
       "data": {
        "name": "data-a7cf6c9a020a80fd301a3304b52f95ac"
       },
       "datasets": {
        "data-a7cf6c9a020a80fd301a3304b52f95ac": [
         {
          "x": 10,
          "y": 13
         },
         {
          "x": 5,
          "y": 17
         },
         {
          "x": 16,
          "y": 15
         },
         {
          "x": 4,
          "y": 14
         },
         {
          "x": 24,
          "y": 9
         },
         {
          "x": 17,
          "y": 22
         },
         {
          "x": 1,
          "y": 0
         },
         {
          "x": 6,
          "y": 21
         },
         {
          "x": 22,
          "y": 0
         },
         {
          "x": 7,
          "y": 4
         }
        ]
       },
       "mark": "point"
      },
      "image/png": "[encoded data removed]",
      "text/plain": [
       "<VegaLite 2 object>\n",
       "\n",
       "If you see this message, it means the renderer has not been properly enabled\n",
       "for the frontend that you are using. For more information, see\n",
       "https://altair-viz.github.io/user_guide/troubleshooting.html\n"
      ]
     },
     "execution_count": 4,
     "metadata": {},
     "output_type": "execute_result"
    }
   ],
   "source": [
    "alt.Chart(df).mark_point()"
   ]
  },
  {
   "cell_type": "markdown",
   "metadata": {},
   "source": [
    "This is not very interesting because we didn't set any encodings. "
   ]
  },
  {
   "cell_type": "code",
   "execution_count": 5,
   "metadata": {},
   "outputs": [
    {
     "data": {
      "application/vnd.vegalite.v2+json": {
       "$schema": "https://vega.github.io/schema/vega-lite/v2.6.0.json",
       "config": {
        "view": {
         "height": 300,
         "width": 400
        }
       },
       "data": {
        "name": "data-a7cf6c9a020a80fd301a3304b52f95ac"
       },
       "datasets": {
        "data-a7cf6c9a020a80fd301a3304b52f95ac": [
         {
          "x": 10,
          "y": 13
         },
         {
          "x": 5,
          "y": 17
         },
         {
          "x": 16,
          "y": 15
         },
         {
          "x": 4,
          "y": 14
         },
         {
          "x": 24,
          "y": 9
         },
         {
          "x": 17,
          "y": 22
         },
         {
          "x": 1,
          "y": 0
         },
         {
          "x": 6,
          "y": 21
         },
         {
          "x": 22,
          "y": 0
         },
         {
          "x": 7,
          "y": 4
         }
        ]
       },
       "encoding": {
        "x": {
         "field": "x",
         "type": "quantitative"
        }
       },
       "mark": "point"
      },
      "image/png": "[encoded data removed]",
      "text/plain": [
       "<VegaLite 2 object>\n",
       "\n",
       "If you see this message, it means the renderer has not been properly enabled\n",
       "for the frontend that you are using. For more information, see\n",
       "https://altair-viz.github.io/user_guide/troubleshooting.html\n"
      ]
     },
     "execution_count": 5,
     "metadata": {},
     "output_type": "execute_result"
    }
   ],
   "source": [
    "alt.Chart(df).mark_point().encode(x='x')"
   ]
  },
  {
   "cell_type": "markdown",
   "metadata": {},
   "source": [
    "This said to assign our variable x to the x position. Now, we'll add y."
   ]
  },
  {
   "cell_type": "code",
   "execution_count": 6,
   "metadata": {},
   "outputs": [
    {
     "data": {
      "application/vnd.vegalite.v2+json": {
       "$schema": "https://vega.github.io/schema/vega-lite/v2.6.0.json",
       "config": {
        "view": {
         "height": 300,
         "width": 400
        }
       },
       "data": {
        "name": "data-a7cf6c9a020a80fd301a3304b52f95ac"
       },
       "datasets": {
        "data-a7cf6c9a020a80fd301a3304b52f95ac": [
         {
          "x": 10,
          "y": 13
         },
         {
          "x": 5,
          "y": 17
         },
         {
          "x": 16,
          "y": 15
         },
         {
          "x": 4,
          "y": 14
         },
         {
          "x": 24,
          "y": 9
         },
         {
          "x": 17,
          "y": 22
         },
         {
          "x": 1,
          "y": 0
         },
         {
          "x": 6,
          "y": 21
         },
         {
          "x": 22,
          "y": 0
         },
         {
          "x": 7,
          "y": 4
         }
        ]
       },
       "encoding": {
        "x": {
         "field": "x",
         "type": "quantitative"
        },
        "y": {
         "field": "y",
         "type": "quantitative"
        }
       },
       "mark": "point"
      },
      "image/png": "[encoded data removed]",
      "text/plain": [
       "<VegaLite 2 object>\n",
       "\n",
       "If you see this message, it means the renderer has not been properly enabled\n",
       "for the frontend that you are using. For more information, see\n",
       "https://altair-viz.github.io/user_guide/troubleshooting.html\n"
      ]
     },
     "execution_count": 6,
     "metadata": {},
     "output_type": "execute_result"
    }
   ],
   "source": [
    "alt.Chart(df).mark_point().encode(x='x', y='y')"
   ]
  },
  {
   "cell_type": "markdown",
   "metadata": {},
   "source": [
    "And we have a scatterplot. There are other encodings such as `size`, `color`, and `shape`, as well as other marks like `bar`, `tick`, and `line`.\n",
    "\n",
    "In the cell below, I've added a third variable to our data. Create a new chart that maps `z` to the `size` encoding to create a bubble plot."
   ]
  },
  {
   "cell_type": "code",
   "execution_count": 11,
   "metadata": {},
   "outputs": [
    {
     "data": {
      "application/vnd.vegalite.v2+json": {
       "$schema": "https://vega.github.io/schema/vega-lite/v2.6.0.json",
       "config": {
        "view": {
         "height": 300,
         "width": 400
        }
       },
       "data": {
        "name": "data-a265873b467aaa18e2e64960c61e7a39"
       },
       "datasets": {
        "data-a265873b467aaa18e2e64960c61e7a39": [
         {
          "x": 1,
          "y": 13,
          "z": 1
         },
         {
          "x": 18,
          "y": 17,
          "z": 18
         },
         {
          "x": 10,
          "y": 15,
          "z": 10
         },
         {
          "x": 4,
          "y": 14,
          "z": 4
         },
         {
          "x": 23,
          "y": 9,
          "z": 23
         },
         {
          "x": 17,
          "y": 22,
          "z": 17
         },
         {
          "x": 5,
          "y": 0,
          "z": 5
         },
         {
          "x": 1,
          "y": 21,
          "z": 1
         },
         {
          "x": 7,
          "y": 0,
          "z": 7
         },
         {
          "x": 21,
          "y": 4,
          "z": 21
         }
        ]
       },
       "encoding": {
        "size": {
         "field": "z",
         "type": "quantitative"
        },
        "x": {
         "field": "x",
         "type": "quantitative"
        },
        "y": {
         "field": "y",
         "type": "quantitative"
        }
       },
       "mark": "point"
      },
      "image/png": "[encoded data removed]",
      "text/plain": [
       "<VegaLite 2 object>\n",
       "\n",
       "If you see this message, it means the renderer has not been properly enabled\n",
       "for the frontend that you are using. For more information, see\n",
       "https://altair-viz.github.io/user_guide/troubleshooting.html\n"
      ]
     },
     "execution_count": 11,
     "metadata": {},
     "output_type": "execute_result"
    }
   ],
   "source": [
    "z = x = np.random.randint(0,25,10)\n",
    "\n",
    "df = pd.DataFrame({'x':x, 'y':y, 'z':z})\n",
    "\n",
    "alt.Chart(df).mark_point().encode(x='x', y='y' ,size='z')"
   ]
  },
  {
   "cell_type": "markdown",
   "metadata": {},
   "source": [
    "Now try it again, mapping `z` to `color`."
   ]
  },
  {
   "cell_type": "code",
   "execution_count": 13,
   "metadata": {},
   "outputs": [
    {
     "data": {
      "application/vnd.vegalite.v2+json": {
       "$schema": "https://vega.github.io/schema/vega-lite/v2.6.0.json",
       "config": {
        "view": {
         "height": 300,
         "width": 400
        }
       },
       "data": {
        "name": "data-a265873b467aaa18e2e64960c61e7a39"
       },
       "datasets": {
        "data-a265873b467aaa18e2e64960c61e7a39": [
         {
          "x": 1,
          "y": 13,
          "z": 1
         },
         {
          "x": 18,
          "y": 17,
          "z": 18
         },
         {
          "x": 10,
          "y": 15,
          "z": 10
         },
         {
          "x": 4,
          "y": 14,
          "z": 4
         },
         {
          "x": 23,
          "y": 9,
          "z": 23
         },
         {
          "x": 17,
          "y": 22,
          "z": 17
         },
         {
          "x": 5,
          "y": 0,
          "z": 5
         },
         {
          "x": 1,
          "y": 21,
          "z": 1
         },
         {
          "x": 7,
          "y": 0,
          "z": 7
         },
         {
          "x": 21,
          "y": 4,
          "z": 21
         }
        ]
       },
       "encoding": {
        "color": {
         "field": "z",
         "type": "quantitative"
        },
        "x": {
         "field": "x",
         "type": "quantitative"
        },
        "y": {
         "field": "y",
         "type": "quantitative"
        }
       },
       "mark": "point"
      },
      "image/png": "[encoded data removed]",
      "text/plain": [
       "<VegaLite 2 object>\n",
       "\n",
       "If you see this message, it means the renderer has not been properly enabled\n",
       "for the frontend that you are using. For more information, see\n",
       "https://altair-viz.github.io/user_guide/troubleshooting.html\n"
      ]
     },
     "execution_count": 13,
     "metadata": {},
     "output_type": "execute_result"
    }
   ],
   "source": [
    "alt.Chart(df).mark_point().encode(x='x', y='y' ,color='z')"
   ]
  },
  {
   "cell_type": "markdown",
   "metadata": {},
   "source": [
    "## Nominal data and aggregation\n",
    "---\n",
    "\n",
    "Now, we will make another dataset with some nominal data in it. Let's say happened to keep running into creatures from Doctor Who, and every time we counted how many of them we encountered."
   ]
  },
  {
   "cell_type": "code",
   "execution_count": 14,
   "metadata": {},
   "outputs": [
    {
     "data": {
      "text/html": [
       "<div>\n",
       "<style scoped>\n",
       "    .dataframe tbody tr th:only-of-type {\n",
       "        vertical-align: middle;\n",
       "    }\n",
       "\n",
       "    .dataframe tbody tr th {\n",
       "        vertical-align: top;\n",
       "    }\n",
       "\n",
       "    .dataframe thead th {\n",
       "        text-align: right;\n",
       "    }\n",
       "</style>\n",
       "<table border=\"1\" class=\"dataframe\">\n",
       "  <thead>\n",
       "    <tr style=\"text-align: right;\">\n",
       "      <th></th>\n",
       "      <th>type</th>\n",
       "      <th>number</th>\n",
       "    </tr>\n",
       "  </thead>\n",
       "  <tbody>\n",
       "    <tr>\n",
       "      <th>0</th>\n",
       "      <td>Cyberman</td>\n",
       "      <td>9</td>\n",
       "    </tr>\n",
       "    <tr>\n",
       "      <th>1</th>\n",
       "      <td>Cyberman</td>\n",
       "      <td>1</td>\n",
       "    </tr>\n",
       "    <tr>\n",
       "      <th>2</th>\n",
       "      <td>Cyberman</td>\n",
       "      <td>1</td>\n",
       "    </tr>\n",
       "    <tr>\n",
       "      <th>3</th>\n",
       "      <td>Dalek</td>\n",
       "      <td>8</td>\n",
       "    </tr>\n",
       "    <tr>\n",
       "      <th>4</th>\n",
       "      <td>Ice Warrior</td>\n",
       "      <td>1</td>\n",
       "    </tr>\n",
       "    <tr>\n",
       "      <th>5</th>\n",
       "      <td>Cyberman</td>\n",
       "      <td>4</td>\n",
       "    </tr>\n",
       "    <tr>\n",
       "      <th>6</th>\n",
       "      <td>Ice Warrior</td>\n",
       "      <td>9</td>\n",
       "    </tr>\n",
       "    <tr>\n",
       "      <th>7</th>\n",
       "      <td>Ice Warrior</td>\n",
       "      <td>9</td>\n",
       "    </tr>\n",
       "    <tr>\n",
       "      <th>8</th>\n",
       "      <td>Ice Warrior</td>\n",
       "      <td>4</td>\n",
       "    </tr>\n",
       "    <tr>\n",
       "      <th>9</th>\n",
       "      <td>Dalek</td>\n",
       "      <td>6</td>\n",
       "    </tr>\n",
       "  </tbody>\n",
       "</table>\n",
       "</div>"
      ],
      "text/plain": [
       "          type  number\n",
       "0     Cyberman       9\n",
       "1     Cyberman       1\n",
       "2     Cyberman       1\n",
       "3        Dalek       8\n",
       "4  Ice Warrior       1\n",
       "5     Cyberman       4\n",
       "6  Ice Warrior       9\n",
       "7  Ice Warrior       9\n",
       "8  Ice Warrior       4\n",
       "9        Dalek       6"
      ]
     },
     "execution_count": 14,
     "metadata": {},
     "output_type": "execute_result"
    }
   ],
   "source": [
    "types = ['Dalek', 'Cyberman', 'Ice Warrior']\n",
    "\n",
    "observed_types = [types[i] for i in np.random.randint(0,len(types), 10)]\n",
    "counts = np.random.randint(1,10,10)\n",
    "\n",
    "df = pd.DataFrame({'type':observed_types, 'number':counts})\n",
    "df"
   ]
  },
  {
   "cell_type": "markdown",
   "metadata": {},
   "source": [
    "Let's make a bar chart to look at the total number of each type of creature we encountered. "
   ]
  },
  {
   "cell_type": "code",
   "execution_count": 15,
   "metadata": {},
   "outputs": [
    {
     "data": {
      "application/vnd.vegalite.v2+json": {
       "$schema": "https://vega.github.io/schema/vega-lite/v2.6.0.json",
       "config": {
        "view": {
         "height": 300,
         "width": 400
        }
       },
       "data": {
        "name": "data-2f76c6980794141da1d61074bd03651a"
       },
       "datasets": {
        "data-2f76c6980794141da1d61074bd03651a": [
         {
          "number": 9,
          "type": "Cyberman"
         },
         {
          "number": 1,
          "type": "Cyberman"
         },
         {
          "number": 1,
          "type": "Cyberman"
         },
         {
          "number": 8,
          "type": "Dalek"
         },
         {
          "number": 1,
          "type": "Ice Warrior"
         },
         {
          "number": 4,
          "type": "Cyberman"
         },
         {
          "number": 9,
          "type": "Ice Warrior"
         },
         {
          "number": 9,
          "type": "Ice Warrior"
         },
         {
          "number": 4,
          "type": "Ice Warrior"
         },
         {
          "number": 6,
          "type": "Dalek"
         }
        ]
       },
       "encoding": {
        "x": {
         "field": "type",
         "type": "nominal"
        },
        "y": {
         "aggregate": "sum",
         "field": "number",
         "type": "quantitative"
        }
       },
       "mark": "bar"
      },
      "image/png": "[encoded data removed]",
      "text/plain": [
       "<VegaLite 2 object>\n",
       "\n",
       "If you see this message, it means the renderer has not been properly enabled\n",
       "for the frontend that you are using. For more information, see\n",
       "https://altair-viz.github.io/user_guide/troubleshooting.html\n"
      ]
     },
     "execution_count": 15,
     "metadata": {},
     "output_type": "execute_result"
    }
   ],
   "source": [
    "alt.Chart(df).mark_bar().encode(x='type:N', y='sum(number)')"
   ]
  },
  {
   "cell_type": "markdown",
   "metadata": {},
   "source": [
    "Notice that I added some information to the encodings. First, I added `:N` to `type`. Altair typically can guess what kind of information you have, but we can be explicit and tell Altair that we have nominal (N), quantitative (Q), ordinal (O), or temporal (T) data. \n",
    "\n",
    "The other thing I added in was an **aggregation operator**: `sum()`. This aggregated the y values, grouped by the x values (in this case, it added up the counts for each type of creature).\n",
    "\n",
    "The vertical bar chart doesn't look great. Flip the encodings to make this a horizontal bar chart. Also, let's see the average (use `average()`) of the counts instead of the sums. "
   ]
  },
  {
   "cell_type": "code",
   "execution_count": 16,
   "metadata": {},
   "outputs": [
    {
     "data": {
      "application/vnd.vegalite.v2+json": {
       "$schema": "https://vega.github.io/schema/vega-lite/v2.6.0.json",
       "config": {
        "view": {
         "height": 300,
         "width": 400
        }
       },
       "data": {
        "name": "data-2f76c6980794141da1d61074bd03651a"
       },
       "datasets": {
        "data-2f76c6980794141da1d61074bd03651a": [
         {
          "number": 9,
          "type": "Cyberman"
         },
         {
          "number": 1,
          "type": "Cyberman"
         },
         {
          "number": 1,
          "type": "Cyberman"
         },
         {
          "number": 8,
          "type": "Dalek"
         },
         {
          "number": 1,
          "type": "Ice Warrior"
         },
         {
          "number": 4,
          "type": "Cyberman"
         },
         {
          "number": 9,
          "type": "Ice Warrior"
         },
         {
          "number": 9,
          "type": "Ice Warrior"
         },
         {
          "number": 4,
          "type": "Ice Warrior"
         },
         {
          "number": 6,
          "type": "Dalek"
         }
        ]
       },
       "encoding": {
        "x": {
         "aggregate": "average",
         "field": "number",
         "type": "quantitative"
        },
        "y": {
         "field": "type",
         "type": "nominal"
        }
       },
       "mark": "bar"
      },
      "image/png": "[encoded data removed]",
      "text/plain": [
       "<VegaLite 2 object>\n",
       "\n",
       "If you see this message, it means the renderer has not been properly enabled\n",
       "for the frontend that you are using. For more information, see\n",
       "https://altair-viz.github.io/user_guide/troubleshooting.html\n"
      ]
     },
     "execution_count": 16,
     "metadata": {},
     "output_type": "execute_result"
    }
   ],
   "source": [
    "alt.Chart(df).mark_bar().encode(x='average(number)', y='type:N')"
   ]
  },
  {
   "cell_type": "markdown",
   "metadata": {},
   "source": [
    "## Customizing\n",
    "---\n",
    "\n",
    "We can customize some of the visual attributes of our marks that we are not tying to an encoding.\n",
    "\n",
    "*Altair uses [web colors](https://en.wikipedia.org/wiki/Web_colors)*"
   ]
  },
  {
   "cell_type": "code",
   "execution_count": 17,
   "metadata": {},
   "outputs": [
    {
     "data": {
      "application/vnd.vegalite.v2+json": {
       "$schema": "https://vega.github.io/schema/vega-lite/v2.6.0.json",
       "config": {
        "view": {
         "height": 300,
         "width": 400
        }
       },
       "data": {
        "name": "data-2f76c6980794141da1d61074bd03651a"
       },
       "datasets": {
        "data-2f76c6980794141da1d61074bd03651a": [
         {
          "number": 9,
          "type": "Cyberman"
         },
         {
          "number": 1,
          "type": "Cyberman"
         },
         {
          "number": 1,
          "type": "Cyberman"
         },
         {
          "number": 8,
          "type": "Dalek"
         },
         {
          "number": 1,
          "type": "Ice Warrior"
         },
         {
          "number": 4,
          "type": "Cyberman"
         },
         {
          "number": 9,
          "type": "Ice Warrior"
         },
         {
          "number": 9,
          "type": "Ice Warrior"
         },
         {
          "number": 4,
          "type": "Ice Warrior"
         },
         {
          "number": 6,
          "type": "Dalek"
         }
        ]
       },
       "encoding": {
        "x": {
         "field": "type",
         "type": "nominal"
        },
        "y": {
         "aggregate": "sum",
         "field": "number",
         "type": "quantitative"
        }
       },
       "mark": {
        "color": "darkslateblue",
        "type": "bar"
       }
      },
      "image/png": "[encoded data removed]",
      "text/plain": [
       "<VegaLite 2 object>\n",
       "\n",
       "If you see this message, it means the renderer has not been properly enabled\n",
       "for the frontend that you are using. For more information, see\n",
       "https://altair-viz.github.io/user_guide/troubleshooting.html\n"
      ]
     },
     "execution_count": 17,
     "metadata": {},
     "output_type": "execute_result"
    }
   ],
   "source": [
    "alt.Chart(df).mark_bar(color=\"darkslateblue\").encode(x='type:N', y='sum(number)')"
   ]
  },
  {
   "cell_type": "markdown",
   "metadata": {},
   "source": [
    "We have also been using the short form of the encodings, where we just pass a string. There is a long form, where we create an encoding object, which allows us to be more explicit, and to exert more control."
   ]
  },
  {
   "cell_type": "code",
   "execution_count": 18,
   "metadata": {},
   "outputs": [
    {
     "data": {
      "application/vnd.vegalite.v2+json": {
       "$schema": "https://vega.github.io/schema/vega-lite/v2.6.0.json",
       "config": {
        "view": {
         "height": 300,
         "width": 400
        }
       },
       "data": {
        "name": "data-2f76c6980794141da1d61074bd03651a"
       },
       "datasets": {
        "data-2f76c6980794141da1d61074bd03651a": [
         {
          "number": 9,
          "type": "Cyberman"
         },
         {
          "number": 1,
          "type": "Cyberman"
         },
         {
          "number": 1,
          "type": "Cyberman"
         },
         {
          "number": 8,
          "type": "Dalek"
         },
         {
          "number": 1,
          "type": "Ice Warrior"
         },
         {
          "number": 4,
          "type": "Cyberman"
         },
         {
          "number": 9,
          "type": "Ice Warrior"
         },
         {
          "number": 9,
          "type": "Ice Warrior"
         },
         {
          "number": 4,
          "type": "Ice Warrior"
         },
         {
          "number": 6,
          "type": "Dalek"
         }
        ]
       },
       "encoding": {
        "x": {
         "field": "type",
         "type": "nominal"
        },
        "y": {
         "aggregate": "sum",
         "field": "number",
         "type": "quantitative"
        }
       },
       "mark": {
        "color": "darkslateblue",
        "type": "bar"
       }
      },
      "image/png": "[encoded data removed]",
      "text/plain": [
       "<VegaLite 2 object>\n",
       "\n",
       "If you see this message, it means the renderer has not been properly enabled\n",
       "for the frontend that you are using. For more information, see\n",
       "https://altair-viz.github.io/user_guide/troubleshooting.html\n"
      ]
     },
     "execution_count": 18,
     "metadata": {},
     "output_type": "execute_result"
    }
   ],
   "source": [
    "alt.Chart(df).mark_bar(color=\"darkslateblue\").encode(\n",
    "    x=alt.X('type', type=\"nominal\"), \n",
    "    y=alt.Y('number', type=\"quantitative\", aggregate=\"sum\")\n",
    ")"
   ]
  },
  {
   "cell_type": "markdown",
   "metadata": {},
   "source": [
    "We can then specify attributes of the axis as well."
   ]
  },
  {
   "cell_type": "code",
   "execution_count": 19,
   "metadata": {},
   "outputs": [
    {
     "data": {
      "application/vnd.vegalite.v2+json": {
       "$schema": "https://vega.github.io/schema/vega-lite/v2.6.0.json",
       "config": {
        "view": {
         "height": 300,
         "width": 400
        }
       },
       "data": {
        "name": "data-2f76c6980794141da1d61074bd03651a"
       },
       "datasets": {
        "data-2f76c6980794141da1d61074bd03651a": [
         {
          "number": 9,
          "type": "Cyberman"
         },
         {
          "number": 1,
          "type": "Cyberman"
         },
         {
          "number": 1,
          "type": "Cyberman"
         },
         {
          "number": 8,
          "type": "Dalek"
         },
         {
          "number": 1,
          "type": "Ice Warrior"
         },
         {
          "number": 4,
          "type": "Cyberman"
         },
         {
          "number": 9,
          "type": "Ice Warrior"
         },
         {
          "number": 9,
          "type": "Ice Warrior"
         },
         {
          "number": 4,
          "type": "Ice Warrior"
         },
         {
          "number": 6,
          "type": "Dalek"
         }
        ]
       },
       "encoding": {
        "x": {
         "axis": {
          "title": "Creature Type"
         },
         "field": "type",
         "type": "nominal"
        },
        "y": {
         "aggregate": "sum",
         "axis": {
          "title": "Number of Creatures"
         },
         "field": "number",
         "type": "quantitative"
        }
       },
       "mark": {
        "color": "darkslateblue",
        "type": "bar"
       }
      },
      "image/png": "[encoded data removed]",
      "text/plain": [
       "<VegaLite 2 object>\n",
       "\n",
       "If you see this message, it means the renderer has not been properly enabled\n",
       "for the frontend that you are using. For more information, see\n",
       "https://altair-viz.github.io/user_guide/troubleshooting.html\n"
      ]
     },
     "execution_count": 19,
     "metadata": {},
     "output_type": "execute_result"
    }
   ],
   "source": [
    "alt.Chart(df).mark_bar(color=\"darkslateblue\").encode(\n",
    "    x=alt.X('type', type=\"nominal\", axis=alt.Axis(title=\"Creature Type\")), \n",
    "    y=alt.Y('number', type=\"quantitative\", aggregate=\"sum\", axis=alt.Axis(title=\"Number of Creatures\"))\n",
    ")"
   ]
  },
  {
   "cell_type": "markdown",
   "metadata": {},
   "source": [
    "And we can also set some basic properties on the chart itself."
   ]
  },
  {
   "cell_type": "code",
   "execution_count": 20,
   "metadata": {},
   "outputs": [
    {
     "data": {
      "application/vnd.vegalite.v2+json": {
       "$schema": "https://vega.github.io/schema/vega-lite/v2.6.0.json",
       "config": {
        "view": {
         "height": 300,
         "width": 400
        }
       },
       "data": {
        "name": "data-2f76c6980794141da1d61074bd03651a"
       },
       "datasets": {
        "data-2f76c6980794141da1d61074bd03651a": [
         {
          "number": 9,
          "type": "Cyberman"
         },
         {
          "number": 1,
          "type": "Cyberman"
         },
         {
          "number": 1,
          "type": "Cyberman"
         },
         {
          "number": 8,
          "type": "Dalek"
         },
         {
          "number": 1,
          "type": "Ice Warrior"
         },
         {
          "number": 4,
          "type": "Cyberman"
         },
         {
          "number": 9,
          "type": "Ice Warrior"
         },
         {
          "number": 9,
          "type": "Ice Warrior"
         },
         {
          "number": 4,
          "type": "Ice Warrior"
         },
         {
          "number": 6,
          "type": "Dalek"
         }
        ]
       },
       "encoding": {
        "x": {
         "axis": {
          "title": "Creature Type"
         },
         "field": "type",
         "type": "nominal"
        },
        "y": {
         "aggregate": "sum",
         "axis": {
          "title": "Number of Creatures"
         },
         "field": "number",
         "type": "quantitative"
        }
       },
       "height": 150,
       "mark": {
        "color": "cadetblue",
        "type": "bar"
       },
       "title": "Creature Encounters",
       "width": 350
      },
      "image/png": "[encoded data removed]",
      "text/plain": [
       "<VegaLite 2 object>\n",
       "\n",
       "If you see this message, it means the renderer has not been properly enabled\n",
       "for the frontend that you are using. For more information, see\n",
       "https://altair-viz.github.io/user_guide/troubleshooting.html\n"
      ]
     },
     "execution_count": 20,
     "metadata": {},
     "output_type": "execute_result"
    }
   ],
   "source": [
    "alt.Chart(df).mark_bar(color=\"cadetblue\").encode(\n",
    "    x=alt.X('type', type=\"nominal\", axis=alt.Axis(title=\"Creature Type\")), \n",
    "    y=alt.Y('number', type=\"quantitative\", aggregate=\"sum\", axis=alt.Axis(title=\"Number of Creatures\"))\n",
    ").properties(\n",
    "    width=350,\n",
    "    height=150,\n",
    "    title=\"Creature Encounters\"\n",
    ")"
   ]
  },
  {
   "cell_type": "markdown",
   "metadata": {},
   "source": [
    "## Importing data\n",
    "---\n",
    "\n",
    "We can use pandas to load in data in other formats. We will use it to pull in the Doctor Who episode data that we have been using as an example in class.\n",
    "\n",
    "The `read_csv` command can also work locally. If this file was in the same directory as the notebook, we could just use `pd.read_csv('dr_who.csv')`. *How cool is it that we can just suck in data from the web?*"
   ]
  },
  {
   "cell_type": "code",
   "execution_count": 23,
   "metadata": {},
   "outputs": [
    {
     "data": {
      "text/html": [
       "<div>\n",
       "<style scoped>\n",
       "    .dataframe tbody tr th:only-of-type {\n",
       "        vertical-align: middle;\n",
       "    }\n",
       "\n",
       "    .dataframe tbody tr th {\n",
       "        vertical-align: top;\n",
       "    }\n",
       "\n",
       "    .dataframe thead th {\n",
       "        text-align: right;\n",
       "    }\n",
       "</style>\n",
       "<table border=\"1\" class=\"dataframe\">\n",
       "  <thead>\n",
       "    <tr style=\"text-align: right;\">\n",
       "      <th></th>\n",
       "      <th>doctor</th>\n",
       "      <th>name</th>\n",
       "      <th>companions</th>\n",
       "      <th>start</th>\n",
       "      <th>end</th>\n",
       "      <th>episodes</th>\n",
       "      <th>duration</th>\n",
       "    </tr>\n",
       "  </thead>\n",
       "  <tbody>\n",
       "    <tr>\n",
       "      <th>0</th>\n",
       "      <td>1</td>\n",
       "      <td>William Hartnell</td>\n",
       "      <td>10</td>\n",
       "      <td>1963</td>\n",
       "      <td>1966</td>\n",
       "      <td>140</td>\n",
       "      <td>3600</td>\n",
       "    </tr>\n",
       "    <tr>\n",
       "      <th>1</th>\n",
       "      <td>2</td>\n",
       "      <td>Patrick Troughton</td>\n",
       "      <td>5</td>\n",
       "      <td>1966</td>\n",
       "      <td>1969</td>\n",
       "      <td>127</td>\n",
       "      <td>3300</td>\n",
       "    </tr>\n",
       "    <tr>\n",
       "      <th>2</th>\n",
       "      <td>3</td>\n",
       "      <td>Jon Pertwee</td>\n",
       "      <td>3</td>\n",
       "      <td>1970</td>\n",
       "      <td>1974</td>\n",
       "      <td>129</td>\n",
       "      <td>3290</td>\n",
       "    </tr>\n",
       "    <tr>\n",
       "      <th>3</th>\n",
       "      <td>4</td>\n",
       "      <td>Tom Baker</td>\n",
       "      <td>8</td>\n",
       "      <td>1974</td>\n",
       "      <td>1981</td>\n",
       "      <td>198</td>\n",
       "      <td>4950</td>\n",
       "    </tr>\n",
       "    <tr>\n",
       "      <th>4</th>\n",
       "      <td>5</td>\n",
       "      <td>Peter Davidson</td>\n",
       "      <td>6</td>\n",
       "      <td>1982</td>\n",
       "      <td>1984</td>\n",
       "      <td>69</td>\n",
       "      <td>1790</td>\n",
       "    </tr>\n",
       "    <tr>\n",
       "      <th>5</th>\n",
       "      <td>6</td>\n",
       "      <td>Colin Baker</td>\n",
       "      <td>2</td>\n",
       "      <td>1985</td>\n",
       "      <td>1986</td>\n",
       "      <td>31</td>\n",
       "      <td>1035</td>\n",
       "    </tr>\n",
       "    <tr>\n",
       "      <th>6</th>\n",
       "      <td>7</td>\n",
       "      <td>Sylvester McCoy</td>\n",
       "      <td>2</td>\n",
       "      <td>1987</td>\n",
       "      <td>1989</td>\n",
       "      <td>42</td>\n",
       "      <td>1050</td>\n",
       "    </tr>\n",
       "    <tr>\n",
       "      <th>7</th>\n",
       "      <td>8</td>\n",
       "      <td>Paul McGann</td>\n",
       "      <td>1</td>\n",
       "      <td>1996</td>\n",
       "      <td>1996</td>\n",
       "      <td>1</td>\n",
       "      <td>89</td>\n",
       "    </tr>\n",
       "    <tr>\n",
       "      <th>8</th>\n",
       "      <td>9</td>\n",
       "      <td>Christopher Eccleston</td>\n",
       "      <td>3</td>\n",
       "      <td>2005</td>\n",
       "      <td>2005</td>\n",
       "      <td>13</td>\n",
       "      <td>585</td>\n",
       "    </tr>\n",
       "    <tr>\n",
       "      <th>9</th>\n",
       "      <td>10</td>\n",
       "      <td>David Tennant</td>\n",
       "      <td>5</td>\n",
       "      <td>2006</td>\n",
       "      <td>2010</td>\n",
       "      <td>48</td>\n",
       "      <td>2312</td>\n",
       "    </tr>\n",
       "    <tr>\n",
       "      <th>10</th>\n",
       "      <td>11</td>\n",
       "      <td>Matt Smith</td>\n",
       "      <td>4</td>\n",
       "      <td>2010</td>\n",
       "      <td>2013</td>\n",
       "      <td>44</td>\n",
       "      <td>2077</td>\n",
       "    </tr>\n",
       "    <tr>\n",
       "      <th>11</th>\n",
       "      <td>12</td>\n",
       "      <td>Peter Capaldi</td>\n",
       "      <td>3</td>\n",
       "      <td>2014</td>\n",
       "      <td>2017</td>\n",
       "      <td>40</td>\n",
       "      <td>2009</td>\n",
       "    </tr>\n",
       "  </tbody>\n",
       "</table>\n",
       "</div>"
      ],
      "text/plain": [
       "    doctor                   name  companions  start   end  episodes  duration\n",
       "0        1       William Hartnell          10   1963  1966       140      3600\n",
       "1        2      Patrick Troughton           5   1966  1969       127      3300\n",
       "2        3            Jon Pertwee           3   1970  1974       129      3290\n",
       "3        4              Tom Baker           8   1974  1981       198      4950\n",
       "4        5         Peter Davidson           6   1982  1984        69      1790\n",
       "5        6            Colin Baker           2   1985  1986        31      1035\n",
       "6        7        Sylvester McCoy           2   1987  1989        42      1050\n",
       "7        8            Paul McGann           1   1996  1996         1        89\n",
       "8        9  Christopher Eccleston           3   2005  2005        13       585\n",
       "9       10          David Tennant           5   2006  2010        48      2312\n",
       "10      11             Matt Smith           4   2010  2013        44      2077\n",
       "11      12          Peter Capaldi           3   2014  2017        40      2009"
      ]
     },
     "execution_count": 23,
     "metadata": {},
     "output_type": "execute_result"
    }
   ],
   "source": [
    "df = pd.read_csv(\"http://www.cs.middlebury.edu/~candrews/classes/cs465-f18/data/dr_who.csv\")\n",
    "df"
   ]
  },
  {
   "cell_type": "markdown",
   "metadata": {},
   "source": [
    "We will learn some more features of Altair shortly, but you are strongly encouraged to read through the [Altair Documentation](https://altair-viz.github.io/index.html) later, and look through the [Example Gallery](https://altair-viz.github.io/gallery/index.html) (particularly the Simple Charts, Bar Charts, Line Charts, and Scatter Plots).\n"
   ]
  },
  {
   "cell_type": "markdown",
   "metadata": {},
   "source": [
    "## Your turn\n",
    "---\n",
    "\n",
    "The `df` DataFrame is all loaded up with Doctor Who data. You are going to create a couple of charts for me. Don't just give me the simplest defaults. Customize them a bit with good axis labels and titles, and think about orientation, sizing, and color as well.\n",
    "\n",
    "Create a horizontal bar chart showing the total duration of each doctor (use the actor's name rather than the doctor number). *Challenge: order the bars by duration*"
   ]
  },
  {
   "cell_type": "code",
   "execution_count": 50,
   "metadata": {},
   "outputs": [
    {
     "data": {
      "application/vnd.vegalite.v2+json": {
       "$schema": "https://vega.github.io/schema/vega-lite/v2.6.0.json",
       "config": {
        "view": {
         "height": 300,
         "width": 400
        }
       },
       "data": {
        "name": "data-a6d711b5775786c78807d8d16c60dded"
       },
       "datasets": {
        "data-a6d711b5775786c78807d8d16c60dded": [
         {
          "companions": 10,
          "doctor": 1,
          "duration": 3600,
          "end": 1966,
          "episodes": 140,
          "name": "William Hartnell",
          "start": 1963
         },
         {
          "companions": 5,
          "doctor": 2,
          "duration": 3300,
          "end": 1969,
          "episodes": 127,
          "name": "Patrick Troughton",
          "start": 1966
         },
         {
          "companions": 3,
          "doctor": 3,
          "duration": 3290,
          "end": 1974,
          "episodes": 129,
          "name": "Jon Pertwee",
          "start": 1970
         },
         {
          "companions": 8,
          "doctor": 4,
          "duration": 4950,
          "end": 1981,
          "episodes": 198,
          "name": "Tom Baker",
          "start": 1974
         },
         {
          "companions": 6,
          "doctor": 5,
          "duration": 1790,
          "end": 1984,
          "episodes": 69,
          "name": "Peter Davidson",
          "start": 1982
         },
         {
          "companions": 2,
          "doctor": 6,
          "duration": 1035,
          "end": 1986,
          "episodes": 31,
          "name": "Colin Baker",
          "start": 1985
         },
         {
          "companions": 2,
          "doctor": 7,
          "duration": 1050,
          "end": 1989,
          "episodes": 42,
          "name": "Sylvester McCoy",
          "start": 1987
         },
         {
          "companions": 1,
          "doctor": 8,
          "duration": 89,
          "end": 1996,
          "episodes": 1,
          "name": "Paul McGann",
          "start": 1996
         },
         {
          "companions": 3,
          "doctor": 9,
          "duration": 585,
          "end": 2005,
          "episodes": 13,
          "name": "Christopher Eccleston",
          "start": 2005
         },
         {
          "companions": 5,
          "doctor": 10,
          "duration": 2312,
          "end": 2010,
          "episodes": 48,
          "name": "David Tennant",
          "start": 2006
         },
         {
          "companions": 4,
          "doctor": 11,
          "duration": 2077,
          "end": 2013,
          "episodes": 44,
          "name": "Matt Smith",
          "start": 2010
         },
         {
          "companions": 3,
          "doctor": 12,
          "duration": 2009,
          "end": 2017,
          "episodes": 40,
          "name": "Peter Capaldi",
          "start": 2014
         }
        ]
       },
       "encoding": {
        "x": {
         "aggregate": "sum",
         "axis": {
          "title": "Duration"
         },
         "field": "duration",
         "type": "quantitative"
        },
        "y": {
         "axis": {
          "title": "Actor Name"
         },
         "field": "name",
         "type": "nominal"
        }
       },
       "height": 250,
       "mark": {
        "color": "#EA98D2",
        "type": "bar"
       },
       "title": "Doctor Duration",
       "width": 350
      },
      "image/png": "[encoded data removed]",
      "text/plain": [
       "<VegaLite 2 object>\n",
       "\n",
       "If you see this message, it means the renderer has not been properly enabled\n",
       "for the frontend that you are using. For more information, see\n",
       "https://altair-viz.github.io/user_guide/troubleshooting.html\n"
      ]
     },
     "execution_count": 50,
     "metadata": {},
     "output_type": "execute_result"
    }
   ],
   "source": [
    "alt.Chart(df).mark_bar(color=\"#EA98D2\").encode(\n",
    "    x=alt.X('duration', type=\"quantitative\", axis=alt.Axis(title=\"Duration\"), aggregate=\"sum\"), \n",
    "    y=alt.Y('name', type=\"nominal\", axis=alt.Axis(title=\"Actor Name\"))\n",
    ").properties(\n",
    "    width=350,\n",
    "    height=250,\n",
    "    title=\"Doctor Duration\"\n",
    ")"
   ]
  },
  {
   "cell_type": "markdown",
   "metadata": {},
   "source": [
    "I said above Altair couldn't always guess what type your data was. The doctor variable is an example of this. Create a bar chart of doctor to episode, forcing `doctor` to be **nominal**."
   ]
  },
  {
   "cell_type": "code",
   "execution_count": 48,
   "metadata": {},
   "outputs": [
    {
     "data": {
      "application/vnd.vegalite.v2+json": {
       "$schema": "https://vega.github.io/schema/vega-lite/v2.6.0.json",
       "config": {
        "view": {
         "height": 300,
         "width": 400
        }
       },
       "data": {
        "name": "data-a6d711b5775786c78807d8d16c60dded"
       },
       "datasets": {
        "data-a6d711b5775786c78807d8d16c60dded": [
         {
          "companions": 10,
          "doctor": 1,
          "duration": 3600,
          "end": 1966,
          "episodes": 140,
          "name": "William Hartnell",
          "start": 1963
         },
         {
          "companions": 5,
          "doctor": 2,
          "duration": 3300,
          "end": 1969,
          "episodes": 127,
          "name": "Patrick Troughton",
          "start": 1966
         },
         {
          "companions": 3,
          "doctor": 3,
          "duration": 3290,
          "end": 1974,
          "episodes": 129,
          "name": "Jon Pertwee",
          "start": 1970
         },
         {
          "companions": 8,
          "doctor": 4,
          "duration": 4950,
          "end": 1981,
          "episodes": 198,
          "name": "Tom Baker",
          "start": 1974
         },
         {
          "companions": 6,
          "doctor": 5,
          "duration": 1790,
          "end": 1984,
          "episodes": 69,
          "name": "Peter Davidson",
          "start": 1982
         },
         {
          "companions": 2,
          "doctor": 6,
          "duration": 1035,
          "end": 1986,
          "episodes": 31,
          "name": "Colin Baker",
          "start": 1985
         },
         {
          "companions": 2,
          "doctor": 7,
          "duration": 1050,
          "end": 1989,
          "episodes": 42,
          "name": "Sylvester McCoy",
          "start": 1987
         },
         {
          "companions": 1,
          "doctor": 8,
          "duration": 89,
          "end": 1996,
          "episodes": 1,
          "name": "Paul McGann",
          "start": 1996
         },
         {
          "companions": 3,
          "doctor": 9,
          "duration": 585,
          "end": 2005,
          "episodes": 13,
          "name": "Christopher Eccleston",
          "start": 2005
         },
         {
          "companions": 5,
          "doctor": 10,
          "duration": 2312,
          "end": 2010,
          "episodes": 48,
          "name": "David Tennant",
          "start": 2006
         },
         {
          "companions": 4,
          "doctor": 11,
          "duration": 2077,
          "end": 2013,
          "episodes": 44,
          "name": "Matt Smith",
          "start": 2010
         },
         {
          "companions": 3,
          "doctor": 12,
          "duration": 2009,
          "end": 2017,
          "episodes": 40,
          "name": "Peter Capaldi",
          "start": 2014
         }
        ]
       },
       "encoding": {
        "x": {
         "axis": {
          "title": "Doctor"
         },
         "field": "doctor",
         "type": "nominal"
        },
        "y": {
         "aggregate": "sum",
         "axis": {
          "title": "Episodes"
         },
         "field": "episodes",
         "type": "quantitative"
        }
       },
       "height": 150,
       "mark": {
        "color": "#659CCA",
        "type": "bar"
       },
       "title": "Doctors to Episodes",
       "width": 350
      },
      "image/png": "[encoded data removed]",
      "text/plain": [
       "<VegaLite 2 object>\n",
       "\n",
       "If you see this message, it means the renderer has not been properly enabled\n",
       "for the frontend that you are using. For more information, see\n",
       "https://altair-viz.github.io/user_guide/troubleshooting.html\n"
      ]
     },
     "execution_count": 48,
     "metadata": {},
     "output_type": "execute_result"
    }
   ],
   "source": [
    "alt.Chart(df).mark_bar(color=\"#659CCA\").encode(\n",
    "    x=alt.X('doctor', type=\"nominal\", axis=alt.Axis(title=\"Doctor\")), \n",
    "    y=alt.Y('episodes', type=\"quantitative\", axis=alt.Axis(title=\"Episodes\"), aggregate=\"sum\")\n",
    ").properties(\n",
    "    width=350,\n",
    "    height=150,\n",
    "    title=\"Doctors to Episodes\"\n",
    ")"
   ]
  },
  {
   "cell_type": "markdown",
   "metadata": {},
   "source": [
    "Repeat your chart, but force it to be **quantitative**."
   ]
  },
  {
   "cell_type": "code",
   "execution_count": 51,
   "metadata": {},
   "outputs": [
    {
     "data": {
      "application/vnd.vegalite.v2+json": {
       "$schema": "https://vega.github.io/schema/vega-lite/v2.6.0.json",
       "config": {
        "view": {
         "height": 300,
         "width": 400
        }
       },
       "data": {
        "name": "data-a6d711b5775786c78807d8d16c60dded"
       },
       "datasets": {
        "data-a6d711b5775786c78807d8d16c60dded": [
         {
          "companions": 10,
          "doctor": 1,
          "duration": 3600,
          "end": 1966,
          "episodes": 140,
          "name": "William Hartnell",
          "start": 1963
         },
         {
          "companions": 5,
          "doctor": 2,
          "duration": 3300,
          "end": 1969,
          "episodes": 127,
          "name": "Patrick Troughton",
          "start": 1966
         },
         {
          "companions": 3,
          "doctor": 3,
          "duration": 3290,
          "end": 1974,
          "episodes": 129,
          "name": "Jon Pertwee",
          "start": 1970
         },
         {
          "companions": 8,
          "doctor": 4,
          "duration": 4950,
          "end": 1981,
          "episodes": 198,
          "name": "Tom Baker",
          "start": 1974
         },
         {
          "companions": 6,
          "doctor": 5,
          "duration": 1790,
          "end": 1984,
          "episodes": 69,
          "name": "Peter Davidson",
          "start": 1982
         },
         {
          "companions": 2,
          "doctor": 6,
          "duration": 1035,
          "end": 1986,
          "episodes": 31,
          "name": "Colin Baker",
          "start": 1985
         },
         {
          "companions": 2,
          "doctor": 7,
          "duration": 1050,
          "end": 1989,
          "episodes": 42,
          "name": "Sylvester McCoy",
          "start": 1987
         },
         {
          "companions": 1,
          "doctor": 8,
          "duration": 89,
          "end": 1996,
          "episodes": 1,
          "name": "Paul McGann",
          "start": 1996
         },
         {
          "companions": 3,
          "doctor": 9,
          "duration": 585,
          "end": 2005,
          "episodes": 13,
          "name": "Christopher Eccleston",
          "start": 2005
         },
         {
          "companions": 5,
          "doctor": 10,
          "duration": 2312,
          "end": 2010,
          "episodes": 48,
          "name": "David Tennant",
          "start": 2006
         },
         {
          "companions": 4,
          "doctor": 11,
          "duration": 2077,
          "end": 2013,
          "episodes": 44,
          "name": "Matt Smith",
          "start": 2010
         },
         {
          "companions": 3,
          "doctor": 12,
          "duration": 2009,
          "end": 2017,
          "episodes": 40,
          "name": "Peter Capaldi",
          "start": 2014
         }
        ]
       },
       "encoding": {
        "x": {
         "axis": {
          "title": "Doctor"
         },
         "field": "doctor",
         "type": "quantitative"
        },
        "y": {
         "aggregate": "sum",
         "axis": {
          "title": "Episodes"
         },
         "field": "episodes",
         "type": "quantitative"
        }
       },
       "height": 150,
       "mark": {
        "color": "#659CCA",
        "type": "bar"
       },
       "title": "Doctors to Episodes",
       "width": 250
      },
      "image/png": "[encoded data removed]",
      "text/plain": [
       "<VegaLite 2 object>\n",
       "\n",
       "If you see this message, it means the renderer has not been properly enabled\n",
       "for the frontend that you are using. For more information, see\n",
       "https://altair-viz.github.io/user_guide/troubleshooting.html\n"
      ]
     },
     "execution_count": 51,
     "metadata": {},
     "output_type": "execute_result"
    }
   ],
   "source": [
    "alt.Chart(df).mark_bar(color=\"#659CCA\").encode(\n",
    "    x=alt.X('doctor', type=\"quantitative\", axis=alt.Axis(title=\"Doctor\")), \n",
    "    y=alt.Y('episodes', type=\"quantitative\", axis=alt.Axis(title=\"Episodes\"),aggregate=\"sum\")\n",
    ").properties(\n",
    "    width=250,\n",
    "    height=150,\n",
    "    title=\"Doctors to Episodes\"\n",
    ")"
   ]
  },
  {
   "cell_type": "markdown",
   "metadata": {},
   "source": [
    "Which one should it be and why?"
   ]
  },
  {
   "cell_type": "markdown",
   "metadata": {},
   "source": [
    "*It should be nominal because the doctor variable is the sequence of when the actors played the doctor. The variable is discrete and if it were type quantitative the scale would be continuous*"
   ]
  },
  {
   "cell_type": "markdown",
   "metadata": {},
   "source": [
    "Graph the number of companions by start year as a line chart."
   ]
  },
  {
   "cell_type": "code",
   "execution_count": 45,
   "metadata": {},
   "outputs": [
    {
     "data": {
      "application/vnd.vegalite.v2+json": {
       "$schema": "https://vega.github.io/schema/vega-lite/v2.6.0.json",
       "config": {
        "view": {
         "height": 300,
         "width": 400
        }
       },
       "data": {
        "name": "data-a6d711b5775786c78807d8d16c60dded"
       },
       "datasets": {
        "data-a6d711b5775786c78807d8d16c60dded": [
         {
          "companions": 10,
          "doctor": 1,
          "duration": 3600,
          "end": 1966,
          "episodes": 140,
          "name": "William Hartnell",
          "start": 1963
         },
         {
          "companions": 5,
          "doctor": 2,
          "duration": 3300,
          "end": 1969,
          "episodes": 127,
          "name": "Patrick Troughton",
          "start": 1966
         },
         {
          "companions": 3,
          "doctor": 3,
          "duration": 3290,
          "end": 1974,
          "episodes": 129,
          "name": "Jon Pertwee",
          "start": 1970
         },
         {
          "companions": 8,
          "doctor": 4,
          "duration": 4950,
          "end": 1981,
          "episodes": 198,
          "name": "Tom Baker",
          "start": 1974
         },
         {
          "companions": 6,
          "doctor": 5,
          "duration": 1790,
          "end": 1984,
          "episodes": 69,
          "name": "Peter Davidson",
          "start": 1982
         },
         {
          "companions": 2,
          "doctor": 6,
          "duration": 1035,
          "end": 1986,
          "episodes": 31,
          "name": "Colin Baker",
          "start": 1985
         },
         {
          "companions": 2,
          "doctor": 7,
          "duration": 1050,
          "end": 1989,
          "episodes": 42,
          "name": "Sylvester McCoy",
          "start": 1987
         },
         {
          "companions": 1,
          "doctor": 8,
          "duration": 89,
          "end": 1996,
          "episodes": 1,
          "name": "Paul McGann",
          "start": 1996
         },
         {
          "companions": 3,
          "doctor": 9,
          "duration": 585,
          "end": 2005,
          "episodes": 13,
          "name": "Christopher Eccleston",
          "start": 2005
         },
         {
          "companions": 5,
          "doctor": 10,
          "duration": 2312,
          "end": 2010,
          "episodes": 48,
          "name": "David Tennant",
          "start": 2006
         },
         {
          "companions": 4,
          "doctor": 11,
          "duration": 2077,
          "end": 2013,
          "episodes": 44,
          "name": "Matt Smith",
          "start": 2010
         },
         {
          "companions": 3,
          "doctor": 12,
          "duration": 2009,
          "end": 2017,
          "episodes": 40,
          "name": "Peter Capaldi",
          "start": 2014
         }
        ]
       },
       "encoding": {
        "x": {
         "axis": {
          "title": "Start Year"
         },
         "field": "start",
         "type": "nominal"
        },
        "y": {
         "axis": {
          "title": "Companions"
         },
         "field": "companions",
         "type": "quantitative"
        }
       },
       "height": 150,
       "mark": "line",
       "title": "Doctors to Episodes",
       "width": 350
      },
      "image/png": "[encoded data removed]",
      "text/plain": [
       "<VegaLite 2 object>\n",
       "\n",
       "If you see this message, it means the renderer has not been properly enabled\n",
       "for the frontend that you are using. For more information, see\n",
       "https://altair-viz.github.io/user_guide/troubleshooting.html\n"
      ]
     },
     "execution_count": 45,
     "metadata": {},
     "output_type": "execute_result"
    }
   ],
   "source": [
    "alt.Chart(df).mark_line().encode(\n",
    "    x=alt.X('start', type=\"nominal\", axis=alt.Axis(title=\"Start Year\")), \n",
    "    y=alt.Y('companions', type=\"quantitative\", axis=alt.Axis(title=\"Companions\"))\n",
    ").properties(\n",
    "    width=350,\n",
    "    height=150,\n",
    "    title=\"Companions by Start Year\"\n",
    ")"
   ]
  },
  {
   "cell_type": "code",
   "execution_count": null,
   "metadata": {},
   "outputs": [],
   "source": []
  }
 ],
 "metadata": {
  "kernelspec": {
   "display_name": "Python 3",
   "language": "python",
   "name": "python3"
  },
  "language_info": {
   "codemirror_mode": {
    "name": "ipython",
    "version": 3
   },
   "file_extension": ".py",
   "mimetype": "text/x-python",
   "name": "python",
   "nbconvert_exporter": "python",
   "pygments_lexer": "ipython3",
   "version": "3.6.6"
  }
 },
 "nbformat": 4,
 "nbformat_minor": 2
}
